{
 "cells": [
  {
   "cell_type": "markdown",
   "id": "c898ab58",
   "metadata": {},
   "source": [
    "### Hackerrank p1\n",
    "Task\n",
    "Given an integer, , perform the following conditional actions:\n",
    "\n",
    "* If  is odd, print Weird\n",
    "* If  is even and in the inclusive range of 2 to 5, print Not Weird\n",
    "* If  is even and in the inclusive range of 6 to 20, print Weird\n",
    "* If  is even and greater than 20, print Not Weird\n",
    "Input Format\n",
    "\n",
    "A single line containing a positive integer, .\n",
    "\n",
    "Constraints\n",
    "\n",
    "* Output Format\n",
    "\n",
    "Print Weird if the number is weird. Otherwise, print Not Weird.\n",
    "\n",
    "* Sample Input 0\n",
    "\n",
    "3\n",
    "* Sample Output 0\n",
    "\n",
    "=> Weird\n",
    "Explanation 0\n",
    "\n",
    "\n",
    " 3 is odd and odd numbers are weird, so print Weird.\n",
    "\n",
    "Sample Input 1\n",
    "\n",
    "24\n",
    "Sample Output 1\n",
    "\n",
    "Not Weird"
   ]
  },
  {
   "cell_type": "code",
   "execution_count": 1,
   "id": "31f6e147",
   "metadata": {},
   "outputs": [
    {
     "name": "stdout",
     "output_type": "stream",
     "text": [
      "100\n",
      "Not Weird\n"
     ]
    }
   ],
   "source": [
    "if __name__ == '__main__':\n",
    "    n = int(input().strip())\n",
    "\n",
    "if n%2 !=0:\n",
    "    print('Weird') \n",
    "else:\n",
    "    if n >=2 and n<=5:\n",
    "        print('Not Weird')       \n",
    "    elif n>= 6 and n<=20:\n",
    "        print('Weird')   \n",
    "    elif n>20:\n",
    "        print('Not Weird')    "
   ]
  },
  {
   "cell_type": "code",
   "execution_count": null,
   "id": "3c1be7a9",
   "metadata": {},
   "outputs": [],
   "source": []
  }
 ],
 "metadata": {
  "kernelspec": {
   "display_name": "Python 3",
   "language": "python",
   "name": "python3"
  },
  "language_info": {
   "codemirror_mode": {
    "name": "ipython",
    "version": 3
   },
   "file_extension": ".py",
   "mimetype": "text/x-python",
   "name": "python",
   "nbconvert_exporter": "python",
   "pygments_lexer": "ipython3",
   "version": "3.8.8"
  }
 },
 "nbformat": 4,
 "nbformat_minor": 5
}
