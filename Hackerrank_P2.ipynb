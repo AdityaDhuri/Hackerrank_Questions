{
 "cells": [
  {
   "cell_type": "markdown",
   "id": "d6a6a2a0",
   "metadata": {},
   "source": [
    "## Task\n",
    "The provided code stub reads and integer, , from STDIN. For all non-negative integers , print .\n",
    "\n",
    "*  Example\n",
    "\n",
    "The list of non-negative integers that are less than  is [0,1,2]. Print the square of each number on a separate line.\n",
    "\n",
    "#### 0\n",
    "#### 1\n",
    "#### 4\n",
    "* Input Format\n",
    "\n",
    "The first and only line contains the integer, .\n",
    "\n",
    "* Output Format\n",
    "\n",
    "Print  lines, one corresponding to each .\n",
    "\n",
    "* Sample Input :\n",
    "\n",
    "#### 5\n",
    "* Sample Output :\n",
    "\n",
    "#### 0\n",
    "#### 1\n",
    "#### 4\n",
    "#### 9\n",
    "#### 16"
   ]
  },
  {
   "cell_type": "code",
   "execution_count": 5,
   "id": "48127fb9",
   "metadata": {},
   "outputs": [
    {
     "name": "stdout",
     "output_type": "stream",
     "text": [
      "5\n",
      "0\n",
      "1\n",
      "4\n",
      "9\n",
      "16\n"
     ]
    }
   ],
   "source": [
    "n = int(input())\n",
    "for i in range(0,n):\n",
    "    print(i*i)    "
   ]
  },
  {
   "cell_type": "code",
   "execution_count": null,
   "id": "04a12720",
   "metadata": {},
   "outputs": [],
   "source": []
  }
 ],
 "metadata": {
  "kernelspec": {
   "display_name": "Python 3",
   "language": "python",
   "name": "python3"
  },
  "language_info": {
   "codemirror_mode": {
    "name": "ipython",
    "version": 3
   },
   "file_extension": ".py",
   "mimetype": "text/x-python",
   "name": "python",
   "nbconvert_exporter": "python",
   "pygments_lexer": "ipython3",
   "version": "3.8.8"
  }
 },
 "nbformat": 4,
 "nbformat_minor": 5
}
