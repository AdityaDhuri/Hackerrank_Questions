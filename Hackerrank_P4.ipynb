{
 "cells": [
  {
   "cell_type": "markdown",
   "id": "7398194e",
   "metadata": {},
   "source": [
    "## P4\n",
    "The included code stub will read an integer, , from STDIN.\n",
    "\n",
    "Without using any string methods, try to print the following:\n",
    "1,2,3...n\n",
    "\n",
    "Note that \"...\" represents the consecutive values in between.\n",
    "\n",
    "* Example\n",
    "* n=5\n",
    "Print the string .\n",
    "* 12345\n",
    "* Input Format\n",
    "\n",
    "The first line contains an integer .\n",
    "\n",
    "* Output Format\n",
    "\n",
    "Print the list of integers from  through  as a string, without spaces.\n",
    "\n",
    "Sample Input :\n",
    "\n",
    "3\n",
    "Sample Output :\n",
    "\n",
    "123"
   ]
  },
  {
   "cell_type": "code",
   "execution_count": 5,
   "id": "27c97e15",
   "metadata": {},
   "outputs": [
    {
     "name": "stdout",
     "output_type": "stream",
     "text": [
      "5\n",
      "12345"
     ]
    }
   ],
   "source": [
    "if __name__ == '__main__':\n",
    "    n = int(input())\n",
    "i=1\n",
    "while i<=n:\n",
    "    print(i, end=\"\")\n",
    "    i=i+1"
   ]
  },
  {
   "cell_type": "code",
   "execution_count": null,
   "id": "e7b0ef4b",
   "metadata": {},
   "outputs": [],
   "source": []
  }
 ],
 "metadata": {
  "kernelspec": {
   "display_name": "Python 3",
   "language": "python",
   "name": "python3"
  },
  "language_info": {
   "codemirror_mode": {
    "name": "ipython",
    "version": 3
   },
   "file_extension": ".py",
   "mimetype": "text/x-python",
   "name": "python",
   "nbconvert_exporter": "python",
   "pygments_lexer": "ipython3",
   "version": "3.8.8"
  }
 },
 "nbformat": 4,
 "nbformat_minor": 5
}
