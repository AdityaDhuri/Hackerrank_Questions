{
 "cells": [
  {
   "cell_type": "markdown",
   "id": "b650105e",
   "metadata": {},
   "source": [
    "## Task\n",
    "You are given a string . It consists of alphanumeric characters, spaces and symbols(+,-).\n",
    "Your task is to find all the substrings of  that contains  or more vowels.\n",
    "Also, these substrings must lie in between  consonants and should contain vowels only.\n",
    "\n",
    "Note :\n",
    "Vowels are defined as: AEIOU and aeiou.\n",
    "Consonants are defined as: QWRTYPSDFGHJKLZXCVBNM and qwrtypsdfghjklzxcvbnm.\n",
    "\n",
    "* Input Format\n",
    "\n",
    "A single line of input containing string .\n",
    "\n",
    "* Output Format\n",
    "\n",
    "Print the matched substrings in their order of occurrence on separate lines.\n",
    "If no match is found, print -1.\n",
    "\n",
    "* Sample Input\n",
    "\n",
    "rabcdeefgyYhFjkIoomnpOeorteeeeet\n",
    "* Sample Output\n",
    "\n",
    "#### ee\n",
    "#### Ioo\n",
    "#### Oeo\n",
    "#### eeeee\n",
    "Explanation\n",
    "\n",
    "* ee is located between consonant d and f.\n",
    "* Ioo is located between consonant k and m.\n",
    "* Oeo is located between consonant p and r.\n",
    "* eeeee is located between consonant t and t."
   ]
  },
  {
   "cell_type": "code",
   "execution_count": 3,
   "id": "cfdf21dd",
   "metadata": {},
   "outputs": [
    {
     "name": "stdout",
     "output_type": "stream",
     "text": [
      "rabcdeefgyYhFjkIoomnpOeorteeeeet\n",
      "ee\n",
      "Ioo\n",
      "Oeo\n",
      "eeeee\n"
     ]
    }
   ],
   "source": [
    "import re\n",
    "k = re.findall(r\"(?<=[^aeiouAEIOU])[aeiouAEIOU]{2,}(?=[^aeiouAEIOU])\",input())\n",
    "\n",
    "if k:\n",
    "    for i in k:\n",
    "        print(i)\n",
    "else:\n",
    "    print(-1)    "
   ]
  },
  {
   "cell_type": "code",
   "execution_count": null,
   "id": "0bf564a2",
   "metadata": {},
   "outputs": [],
   "source": []
  }
 ],
 "metadata": {
  "kernelspec": {
   "display_name": "Python 3",
   "language": "python",
   "name": "python3"
  },
  "language_info": {
   "codemirror_mode": {
    "name": "ipython",
    "version": 3
   },
   "file_extension": ".py",
   "mimetype": "text/x-python",
   "name": "python",
   "nbconvert_exporter": "python",
   "pygments_lexer": "ipython3",
   "version": "3.8.8"
  }
 },
 "nbformat": 4,
 "nbformat_minor": 5
}
