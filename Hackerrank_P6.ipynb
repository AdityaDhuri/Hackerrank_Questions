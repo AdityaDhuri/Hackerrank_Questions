{
 "cells": [
  {
   "cell_type": "markdown",
   "id": "50e321ca",
   "metadata": {},
   "source": [
    "## Task\n",
    "You are given a string .\n",
    "Your task is to find the indices of the start and end of string  in .\n",
    "\n",
    "* Input Format\n",
    "\n",
    "The first line contains the string .\n",
    "The second line contains the string .\n",
    "\n",
    "* Output Format\n",
    "\n",
    "Print the tuple in this format: (start _index, end _index).\n",
    "If no match is found, print (-1, -1).\n",
    "\n",
    "* Sample Input\n",
    "\n",
    "##### aaadaa\n",
    "##### aa\n",
    "* Sample Output\n",
    "\n",
    "##### (0, 1)  \n",
    "##### (1, 2)\n",
    "##### (4, 5)"
   ]
  },
  {
   "cell_type": "code",
   "execution_count": 6,
   "id": "e7d6e4e4",
   "metadata": {},
   "outputs": [
    {
     "name": "stdout",
     "output_type": "stream",
     "text": [
      "aaadaa\n",
      "aa\n",
      "(0, 1)\n",
      "(1, 2)\n",
      "(4, 5)\n"
     ]
    }
   ],
   "source": [
    "import re\n",
    "s, k = input(), input()\n",
    "m = re.finditer(r'(?=(' + k + '))',s)\n",
    "match = False\n",
    "\n",
    "for i in m:\n",
    "    match = True\n",
    "    print((i.start(1), i.end(1)-1))\n",
    "if match == False:\n",
    "    print((-1,-1))    "
   ]
  }
 ],
 "metadata": {
  "kernelspec": {
   "display_name": "Python 3",
   "language": "python",
   "name": "python3"
  },
  "language_info": {
   "codemirror_mode": {
    "name": "ipython",
    "version": 3
   },
   "file_extension": ".py",
   "mimetype": "text/x-python",
   "name": "python",
   "nbconvert_exporter": "python",
   "pygments_lexer": "ipython3",
   "version": "3.8.8"
  }
 },
 "nbformat": 4,
 "nbformat_minor": 5
}
