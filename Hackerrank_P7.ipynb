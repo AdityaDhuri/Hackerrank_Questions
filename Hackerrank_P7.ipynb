{
 "cells": [
  {
   "cell_type": "raw",
   "id": "d0951b4f",
   "metadata": {},
   "source": [
    "## Given an array of integers, calculate the ratios of its elements that are positive, negative, and zero. Print the decimal value of each fraction on a new line with  places after the decimal.\n",
    "\n",
    "Note: This challenge introduces precision problems. The test cases are scaled to six decimal places, though answers with absolute error of up to  are acceptable.\n",
    "\n",
    "Example:\n",
    "a =arr[1,1,0,-1,-1]\n",
    "\n",
    "There are  elements, two positive, two negative and one zero. Their ratios are 2/5, 2/5, 1/5  and  Results are printed as:\n",
    "\n",
    "0.400000\n",
    "0.400000\n",
    "0.200000\n",
    "Function Description\n",
    "\n",
    "Complete the plusMinus function in the editor below.\n",
    "\n",
    "plusMinus has the following parameter(s):\n",
    "\n",
    "int arr[n]: an array of integers\n",
    "Print\n",
    "Print the ratios of positive, negative and zero values in the array. Each value should be printed on a separate line with  digits after the decimal. The function should not return a value.\n",
    "\n",
    "* Input Format\n",
    "\n",
    "The first line contains an integer, , the size of the array.\n",
    "The second line contains  space-separated integers that describe .\n",
    "\n",
    "* Output Format\n",
    "\n",
    "Print the following  lines, each to  decimals:\n",
    "\n",
    "proportion of positive values\n",
    "proportion of negative values\n",
    "proportion of zeros\n",
    "* Sample Input\n",
    "\n",
    "STDIN           Function\n",
    "-----           --------\n",
    "6               arr[] size n = 6\n",
    "-4 3 -9 0 4 1   arr = [-4, 3, -9, 0, 4, 1]\n",
    "* Sample Output\n",
    "\n",
    "0.500000\n",
    "0.333333\n",
    "0.166667\n",
    "Explanation\n",
    "\n",
    "There are  positive numbers,  negative numbers, and  zero in the array.\n",
    "The proportions of occurrence are positive: , negative:  and zeros: ."
   ]
  },
  {
   "cell_type": "code",
   "execution_count": 7,
   "id": "93a05028",
   "metadata": {},
   "outputs": [
    {
     "name": "stdout",
     "output_type": "stream",
     "text": [
      "0.500000\n",
      "0.333333\n",
      "0.166667\n"
     ]
    }
   ],
   "source": [
    "# for hacker-rank\n",
    "import math\n",
    "import os\n",
    "import random\n",
    "import re\n",
    "import sys\n",
    "\n",
    "#\n",
    "# Complete the 'plusMinus' function below.\n",
    "#\n",
    "# The function accepts INTEGER_ARRAY arr as parameter.\n",
    "arr = (-4, 3, -9, 0, 4, 1)\n",
    "def plusMinus(arr):\n",
    "    # Write your code here\n",
    "    positive, negative, zero = 0,0,0\n",
    "    for i in arr:\n",
    "        if i>0:\n",
    "            positive+=1\n",
    "        elif i<0:\n",
    "            negative+=1\n",
    "        else:\n",
    "            zero+=1\n",
    "    print(\"%.6f\" %(positive/len(arr)))\n",
    "    print(\"%.6f\" %(negative/len(arr)))\n",
    "    print(\"%.6f\" %(zero/len(arr)))                                   \n",
    "plusMinus(arr)\n"
   ]
  },
  {
   "cell_type": "code",
   "execution_count": 8,
   "id": "8667259e",
   "metadata": {},
   "outputs": [
    {
     "name": "stdout",
     "output_type": "stream",
     "text": [
      "0.5\n",
      "0.3333333333333333\n",
      "0.16666666666666666\n"
     ]
    }
   ],
   "source": [
    "# my own practiced code\n",
    "a = (-4, 3, -9, 0, 4, 1)\n",
    "b=0\n",
    "c=0\n",
    "d=0\n",
    "for i in range(0,len(a)):\n",
    "    if a[i]<0:\n",
    "        b = b+1\n",
    "    elif a[i]>0:\n",
    "        c = c+1\n",
    "    elif a[i]==0:\n",
    "        d = d+1\n",
    "print(c/len(a))        \n",
    "print(b/len(a))\n",
    "print(d/len(a))"
   ]
  },
  {
   "cell_type": "code",
   "execution_count": null,
   "id": "8157cee5",
   "metadata": {},
   "outputs": [],
   "source": []
  }
 ],
 "metadata": {
  "kernelspec": {
   "display_name": "Python 3",
   "language": "python",
   "name": "python3"
  },
  "language_info": {
   "codemirror_mode": {
    "name": "ipython",
    "version": 3
   },
   "file_extension": ".py",
   "mimetype": "text/x-python",
   "name": "python",
   "nbconvert_exporter": "python",
   "pygments_lexer": "ipython3",
   "version": "3.8.8"
  }
 },
 "nbformat": 4,
 "nbformat_minor": 5
}
