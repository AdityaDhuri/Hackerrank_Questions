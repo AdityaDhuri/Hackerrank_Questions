{
  "nbformat": 4,
  "nbformat_minor": 0,
  "metadata": {
    "colab": {
      "name": "Hackerrank_P8.ipynb",
      "provenance": [],
      "toc_visible": true,
      "authorship_tag": "ABX9TyPv5Z5wGIo52IuGHf0KWo0e",
      "include_colab_link": true
    },
    "kernelspec": {
      "name": "python3",
      "display_name": "Python 3"
    },
    "language_info": {
      "name": "python"
    }
  },
  "cells": [
    {
      "cell_type": "markdown",
      "metadata": {
        "id": "view-in-github",
        "colab_type": "text"
      },
      "source": [
        "<a href=\"https://colab.research.google.com/github/AdityaDhuri/Hackerrank_Questions/blob/main/Hackerrank_P8.ipynb\" target=\"_parent\"><img src=\"https://colab.research.google.com/assets/colab-badge.svg\" alt=\"Open In Colab\"/></a>"
      ]
    },
    {
      "cell_type": "code",
      "metadata": {
        "colab": {
          "base_uri": "https://localhost:8080/"
        },
        "id": "n-kUac6LuPN7",
        "outputId": "759f3d87-4277-4085-b4c5-dbec69354d3c"
      },
      "source": [
        "'''\n",
        "give input as month day year\n",
        "e.g (10 18 2021)\n",
        "'''\n",
        "import datetime\n",
        "import calendar\n",
        "m,d,y=map(int,input().split())\n",
        "input_date = datetime.date(y,m,d)\n",
        "print(calendar.day_name[input_date.weekday()].upper())\n"
      ],
      "execution_count": 16,
      "outputs": [
        {
          "output_type": "stream",
          "name": "stdout",
          "text": [
            "10 18 2021\n",
            "MONDAY\n"
          ]
        }
      ]
    },
    {
      "cell_type": "code",
      "metadata": {
        "id": "PdkV2nmWuYXM"
      },
      "source": [
        ""
      ],
      "execution_count": null,
      "outputs": []
    }
  ]
}